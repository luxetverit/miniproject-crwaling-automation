{
 "cells": [
  {
   "cell_type": "code",
   "execution_count": 55,
   "id": "46a8e638",
   "metadata": {},
   "outputs": [],
   "source": [
    "import selenium\n",
    "import time #time.sleep에 필요\n",
    "import pymysql\n",
    "\n",
    "db = pymysql.connect(host='127.0.0.1', port=3306, user='root', passwd='1234', db='ohmy', charset='utf8')"
   ]
  },
  {
   "cell_type": "code",
   "execution_count": 56,
   "id": "0cc5abe8",
   "metadata": {},
   "outputs": [],
   "source": [
    "from selenium import webdriver\n",
    "from selenium.webdriver.common.keys import Keys\n",
    "from datetime import datetime # 날짜 관련 라이브러리\n",
    "from datetime import datetime\n",
    "from datetime import timedelta\n",
    "from dateutil import relativedelta\n",
    "\n",
    "# 아래부터는 뤱페이지 로딩 대기를 위해 필요한 라이브러리\n",
    "from selenium.webdriver.common.by import By\n",
    "from selenium.webdriver.support.ui import WebDriverWait\n",
    "from selenium.webdriver.support import expected_conditions as EC\n",
    "cursor = db.cursor()"
   ]
  },
  {
   "cell_type": "code",
   "execution_count": 18,
   "id": "334d9a00",
   "metadata": {},
   "outputs": [],
   "source": [
    "options = webdriver.ChromeOptions()\n",
    "options.add_argument(\"user_agent=Mozilla/5.0 (Windows NT 10.0; Win64; x64) AppleWebKit/537.36 (KHTML, like Gecko) Chrome/106.0.0.0 Safari/537.36 Edg/106.0.1370.47\")\n",
    "\n",
    "driver = webdriver.Chrome(options=options)\n",
    "\n",
    "driver.get('https://www.kopis.or.kr/por/stats/perfo/perfoStatsTotal.do?menuId=MNU_000135&searchWord=&searchType=total')"
   ]
  },
  {
   "cell_type": "code",
   "execution_count": 57,
   "id": "f57402d3",
   "metadata": {
    "scrolled": true
   },
   "outputs": [],
   "source": [
    "# getMonthRange 함수 개요:\n",
    "# year와 month를 입력받는다 (2019, 01)\n",
    "# 해당 month의 시작일자와 마지막일자를 구한다. (1월31일, 2월28일....11월30일, 12월31일)\n",
    "# yyyy.mm.dd 형식으로 리턴 (2019.01.01)\n",
    "def getMonthRange(year, month): \n",
    "    year = int(year)\n",
    "    month = int(month)\n",
    "    this_month = datetime(year=year, month=month, day=1).date()\n",
    "    next_month = this_month + relativedelta.relativedelta(months=1)\n",
    "    first_day = this_month\n",
    "    last_day = next_month - timedelta(days=1)\n",
    "    month__=format(first_day.month,'02')+'.'\n",
    "    month__day=month__+format(first_day.day,'02')\n",
    "    day_left= '{}.{}'.format(year,month__day)\n",
    "    month__ = format(first_day.month, '02') + '.'\n",
    "    month__day = month__ + format(last_day.day, '02')\n",
    "    day_right = '{}.{}'.format(year, month__day)\n",
    "    return day_left, day_right"
   ]
  },
  {
   "cell_type": "code",
   "execution_count": 58,
   "id": "538939d7",
   "metadata": {},
   "outputs": [],
   "source": [
    "# searchData 함수 개요 : \n",
    "# 검색 범위를 입력받는다 (dayleft, dayright) ex) 2019.01.01, 2019.01.31\n",
    "# selenium 으로 웹페이지를 컨트롤해서 조회 버튼 클릭\n",
    "# 결과로 나온 데이터 테이블을 crwaling 해서 result 변수에 담는다.\n",
    "# result 변수를 리턴해준다.\n",
    "def searchData(dayleft,dayright) : \n",
    "    elem = driver.find_element_by_id('startDate') #검색 시작 날짜\n",
    "    elem.send_keys(Keys.CONTROL + 'a') # ctrl + a : 커서가 올라간 범위내 모든 텍스트 선택\n",
    "    elem.send_keys(Keys.BACKSPACE) # backspace 키 입력으로 선택된 부분 clear\n",
    "    elem.send_keys(dayleft) # 검색시작일자 입력 (2019.01.01)\n",
    "    elem.send_keys(Keys.ENTER)\n",
    "    time.sleep(1) # 엔터키 누르고 바로 넘억아면 다음 입력이 안되는 있어서 1초간 대기   2초로 변경\n",
    "\n",
    "    elem = driver.find_element_by_id('endDate') #검색 마지막 날짜\n",
    "    elem.send_keys(Keys.CONTROL + 'a')\n",
    "    elem.send_keys(Keys.BACKSPACE)\n",
    "    elem.send_keys(dayright)\n",
    "    elem.send_keys(Keys.ENTER)\n",
    "    \n",
    "\n",
    "    elem = driver.find_element_by_xpath('//*[@id=\"search_list\"]/div/a') # 클릭버튼 xpath\n",
    "    elem.click()\n",
    "    \n",
    "    wait = WebDriverWait(driver, 60).until(\n",
    "    EC.invisibility_of_element_located((By.XPATH, '//*[@id=\"progress\"]'))    )\n",
    "   \n",
    "                                                    \n",
    "    table = driver.find_element_by_xpath('//*[@id=\"su_con\"]/div[5]/table') # 결과 테이블 xpath\n",
    "    tbody = table.find_element_by_tag_name('tbody') # 테이블구조 : table > thead, tbody, tfoot> tr > td\n",
    "    result = ''                                     # 우리가 필요한 데이터는 tbody 에 존재하므로 tbody 선택\n",
    "    \n",
    "    for tr in tbody.find_elements_by_class_name(\"trTotal\"): # 테이블 tbody 에 있는 trTotal 행 선택\n",
    "        txt = tr.find_element_by_tag_name(\"th\").get_attribute(\"innerText\") # th는 가장 좌측에 있는 권역이름(서울, 경기도....)\n",
    "        for td in tr.find_elements_by_tag_name(\"td\")[1:]: # td[0] = 합계, td[1] = 공연건수(건), td[2] = 공연건수(%), td[3] = 개막편수\n",
    "            txt += ' ' + td.get_attribute(\"innerText\") # innertext는 괄호와 괄호 사이에 있는 텍스트를 읽는다 <td> innerText </td> \n",
    "        result += txt + '\\n' # th + td[1], td[2].... td[마지막] 까지 문자열 데이터를 붙여서 결과 함수에 담는다. '\\n'은 줄바꿈\n",
    "    \n",
    "    #합계부분\n",
    "    #txt2 = ''\n",
    "    #for tr in tbody.find_elements_by_class_name('sum.brb_e.bg'):\n",
    "    #   for td in tr.find_elements_by_tag_name(\"td\"):\n",
    "    #       txt2 += td.get_attribute(\"innerText\") + ' '\n",
    "    #   #result += txt2 + '\\n'\n",
    "    #print(result)\n",
    "    \n",
    "    return result  # 리턴값 str \n"
   ]
  },
  {
   "cell_type": "code",
   "execution_count": 59,
   "id": "559a3ef1",
   "metadata": {},
   "outputs": [],
   "source": [
    "# make_year_month 함수 개요:\n",
    "# 시작연도 입력시 현재 연+월 에서 1달을 뺀 전체 데이터를 리턴\n",
    "# ex) 2019 입력시 2019년01월부터 현재날짜인 2022년11월 바로 전달까지 리턴 (2019.01~~~~2022.10)\n",
    "def make_year_month(startyear) :\n",
    "    nowyear = datetime.now().year\n",
    "    nowmonth = datetime.now().month\n",
    "    year_month=[]\n",
    "    for year in range(startyear,nowyear) :\n",
    "        for month in range (1,13) :\n",
    "            year_month.append((year,month))\n",
    "    for month in range(1,nowmonth) :\n",
    "        year_month.append((nowyear,month))\n",
    "    return year_month\n"
   ]
  },
  {
   "cell_type": "code",
   "execution_count": 60,
   "id": "be9d20b8",
   "metadata": {},
   "outputs": [],
   "source": [
    "# def parsing_result(result:str,year,month) : # \n",
    "#     districts=result.split('\\n')\n",
    "#     for district in districts :\n",
    "#         data=district.split()  \n",
    "#         data.insert(0,str(year).data[0])\n",
    "#         data.insert(1,str(year),str(month))\n",
    "#         data=tuple(data)\n",
    "#         sql = \"INSERT INTO `sibal`(s1, s2,s3,s4,s5,s6,s7,s8,s9,s10,s11,s12,s13) VALUES (%s, %s,%s, %s,%s, %s,%s, %s,%s, %s,%s, %s,%s);\"\n",
    "#         cursor.execute(sql, data)\n"
   ]
  },
  {
   "cell_type": "code",
   "execution_count": 63,
   "id": "70abe8b0",
   "metadata": {},
   "outputs": [],
   "source": [
    "def parsing_result(tablename,result) : # \n",
    "    districts=result.split('\\n')\n",
    "    for district in districts :\n",
    "        data=district.split()  \n",
    "\n"
   ]
  },
  {
   "cell_type": "code",
   "execution_count": 65,
   "id": "330552cf",
   "metadata": {
    "scrolled": true
   },
   "outputs": [],
   "source": [
    "year_start=2019\n",
    "year_month_list = make_year_month(year_start)\n",
    "for ym in year_month_list :\n",
    "    dayleft, dayright = getMonthRange(ym[0], ym[1])\n",
    "    result = searchData(dayleft, dayright)\n",
    "    result=result.strip()\n",
    "    \n"
   ]
  },
  {
   "cell_type": "code",
   "execution_count": 62,
   "id": "26c21ba7",
   "metadata": {},
   "outputs": [],
   "source": [
    "list='2019서울 2019 서울 638 45.8 488 41.3 4,538 66.3 698,464 60.2 27,190,302 63.2'.split()"
   ]
  },
  {
   "cell_type": "code",
   "execution_count": 65,
   "id": "f23f6357",
   "metadata": {
    "scrolled": true
   },
   "outputs": [
    {
     "name": "stdout",
     "output_type": "stream",
     "text": [
      "a2019서울\n"
     ]
    }
   ],
   "source": [
    "result.split('\\n')"
   ]
  },
  {
   "cell_type": "code",
   "execution_count": 80,
   "id": "bf292570",
   "metadata": {},
   "outputs": [],
   "source": [
    "a='서울 667 45.1 536 41.3 4,936 69.6 660,389 64.0 28,259,338 78.8'+'\\n' '경상도 271 18.3 253 19.5 879 12.4 125,424 12.2 2,633,278 7.3'"
   ]
  },
  {
   "cell_type": "code",
   "execution_count": 86,
   "id": "397e0fad",
   "metadata": {},
   "outputs": [
    {
     "name": "stdout",
     "output_type": "stream",
     "text": [
      "['서울 667 45.1 536 41.3 4,936 69.6 660,389 64.0 28,259,338 78.8', '경상도 271 18.3 253 19.5 879 12.4 125,424 12.2 2,633,278 7.3']\n"
     ]
    }
   ],
   "source": [
    "print(a.split('\\n'))"
   ]
  },
  {
   "cell_type": "code",
   "execution_count": 168,
   "id": "91e35436",
   "metadata": {},
   "outputs": [],
   "source": []
  },
  {
   "cell_type": "code",
   "execution_count": 5,
   "id": "2c41ac7e",
   "metadata": {},
   "outputs": [],
   "source": [
    "a='서울 667 45.1 536 41.3 4,936 69.6 660,389 64.0 28,259,338 78.8'"
   ]
  },
  {
   "cell_type": "code",
   "execution_count": 6,
   "id": "ec375e4e",
   "metadata": {},
   "outputs": [],
   "source": [
    "seoul=a.split()"
   ]
  },
  {
   "cell_type": "code",
   "execution_count": 7,
   "id": "4db69759",
   "metadata": {},
   "outputs": [],
   "source": [
    "seoul.insert(0,'2019'+seoul[0])\n",
    "seoul.insert(1,'2019')\n"
   ]
  },
  {
   "cell_type": "code",
   "execution_count": 8,
   "id": "17cd2caa",
   "metadata": {},
   "outputs": [
    {
     "data": {
      "text/plain": [
       "['2019서울',\n",
       " '2019',\n",
       " '서울',\n",
       " '667',\n",
       " '45.1',\n",
       " '536',\n",
       " '41.3',\n",
       " '4,936',\n",
       " '69.6',\n",
       " '660,389',\n",
       " '64.0',\n",
       " '28,259,338',\n",
       " '78.8']"
      ]
     },
     "execution_count": 8,
     "metadata": {},
     "output_type": "execute_result"
    }
   ],
   "source": [
    "seoul"
   ]
  },
  {
   "cell_type": "code",
   "execution_count": 146,
   "id": "d7142f95",
   "metadata": {},
   "outputs": [],
   "source": []
  },
  {
   "cell_type": "code",
   "execution_count": 147,
   "id": "bf0550bb",
   "metadata": {},
   "outputs": [
    {
     "name": "stdout",
     "output_type": "stream",
     "text": [
      "1,2,3\n"
     ]
    }
   ],
   "source": [
    "print(sqls('1','2','3'))"
   ]
  },
  {
   "cell_type": "code",
   "execution_count": 151,
   "id": "f62994c3",
   "metadata": {},
   "outputs": [
    {
     "ename": "SyntaxError",
     "evalue": "EOF while scanning triple-quoted string literal (<ipython-input-151-35d1a219dd17>, line 1)",
     "output_type": "error",
     "traceback": [
      "\u001b[1;36m  File \u001b[1;32m\"<ipython-input-151-35d1a219dd17>\"\u001b[1;36m, line \u001b[1;32m1\u001b[0m\n\u001b[1;33m    sql = \"\"\"INSERT INTO product VALUES(\u001b[0m\n\u001b[1;37m                                        ^\u001b[0m\n\u001b[1;31mSyntaxError\u001b[0m\u001b[1;31m:\u001b[0m EOF while scanning triple-quoted string literal\n"
     ]
    }
   ],
   "source": []
  },
  {
   "cell_type": "code",
   "execution_count": 149,
   "id": "471eacb5",
   "metadata": {},
   "outputs": [
    {
     "name": "stdout",
     "output_type": "stream",
     "text": [
      "aaaaaa\n"
     ]
    }
   ],
   "source": [
    "print_()"
   ]
  },
  {
   "cell_type": "code",
   "execution_count": 4,
   "id": "249256b9",
   "metadata": {},
   "outputs": [],
   "source": [
    "a='서울 667 45.1 536 41.3 4,936 69.6 660,389 64.0 28,259,338 78.8'"
   ]
  },
  {
   "cell_type": "code",
   "execution_count": 153,
   "id": "bf9dddb7",
   "metadata": {},
   "outputs": [],
   "source": [
    "k=a.split()"
   ]
  },
  {
   "cell_type": "code",
   "execution_count": 9,
   "id": "db39f518",
   "metadata": {},
   "outputs": [],
   "source": [
    "seoul=tuple(seoul)"
   ]
  },
  {
   "cell_type": "code",
   "execution_count": 10,
   "id": "026ba162",
   "metadata": {},
   "outputs": [
    {
     "data": {
      "text/plain": [
       "('2019서울',\n",
       " '2019',\n",
       " '서울',\n",
       " '667',\n",
       " '45.1',\n",
       " '536',\n",
       " '41.3',\n",
       " '4,936',\n",
       " '69.6',\n",
       " '660,389',\n",
       " '64.0',\n",
       " '28,259,338',\n",
       " '78.8')"
      ]
     },
     "execution_count": 10,
     "metadata": {},
     "output_type": "execute_result"
    }
   ],
   "source": [
    "seoul"
   ]
  },
  {
   "cell_type": "code",
   "execution_count": 11,
   "id": "cae6429d",
   "metadata": {},
   "outputs": [
    {
     "data": {
      "text/plain": [
       "1"
      ]
     },
     "execution_count": 11,
     "metadata": {},
     "output_type": "execute_result"
    }
   ],
   "source": [
    "sql = \"INSERT INTO `sibal`(s1, s2,s3,s4,s5,s6,s7,s8,s9,s10,s11,s12,s13) VALUES (%s, %s,%s, %s,%s, %s,%s, %s,%s, %s,%s, %s,%s);\"\n",
    "cursor.execute(sql, seoul)\n"
   ]
  },
  {
   "cell_type": "code",
   "execution_count": 67,
   "id": "869f5665",
   "metadata": {},
   "outputs": [],
   "source": [
    "db.close()"
   ]
  },
  {
   "cell_type": "code",
   "execution_count": 66,
   "id": "d6736868",
   "metadata": {},
   "outputs": [],
   "source": [
    "db.commit()\n"
   ]
  },
  {
   "cell_type": "code",
   "execution_count": null,
   "id": "5ddd2473",
   "metadata": {},
   "outputs": [],
   "source": [
    "sql = \"INSERT INTO `{}`{} VALUES {};\".format(tablename,key,value)"
   ]
  }
 ],
 "metadata": {
  "kernelspec": {
   "display_name": "Python 3 (ipykernel)",
   "language": "python",
   "name": "python3"
  },
  "language_info": {
   "codemirror_mode": {
    "name": "ipython",
    "version": 3
   },
   "file_extension": ".py",
   "mimetype": "text/x-python",
   "name": "python",
   "nbconvert_exporter": "python",
   "pygments_lexer": "ipython3",
   "version": "3.9.12"
  }
 },
 "nbformat": 4,
 "nbformat_minor": 5
}
